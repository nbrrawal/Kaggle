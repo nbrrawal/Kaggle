{
 "cells": [
  {
   "cell_type": "code",
   "execution_count": null,
   "metadata": {
    "_uuid": "8f2839f25d086af736a60e9eeb907d3b93b6e0e5",
    "_cell_guid": "b1076dfc-b9ad-4769-8c92-a6c4dae69d19",
    "trusted": true,
    "collapsed": true
   },
   "outputs": [],
   "source": [
    "# This Python 3 environment comes with many helpful analytics libraries installed\n",
    "# It is defined by the kaggle/python docker image: https://github.com/kaggle/docker-python\n",
    "# For example, here's several helpful packages to load in \n",
    "import os\n",
    "import pandas as pd \n",
    "import numpy as np # linear algebra\n",
    "import pandas as pd # data processing, CSV file I/O (e.g. pd.read_csv)\n",
    "import seaborn as sns\n",
    "import matplotlib.pyplot as plt \n",
    "pd.set_option('display.float_format', lambda x: '%.2f' % x)\n",
    "# Input data files are available in the \"../input/\" directory.\n",
    "# For example, running this (by clicking run or pressing Shift+Enter) will list the files in the input directory\n",
    "#set plot size\n",
    "plt.rcParams['figure.figsize']=(20,10)\n",
    "print(os.listdir(\"../input/\"))\n",
    "dt = pd.read_csv(\"../input/commodity_trade_statistics_data.csv\", na_values=[\"No Quantity\",0.0,''],sep=',')\n",
    "# Any results you write to the current directory are saved as output."
   ]
  },
  {
   "cell_type": "code",
   "execution_count": null,
   "metadata": {
    "trusted": true,
    "_uuid": "e1c4e03ff068ddd3993864f07ce26651caacf855",
    "_kg_hide-output": true,
    "collapsed": true
   },
   "outputs": [],
   "source": [
    "#first things first, find total number of rows and columns \n",
    "print(\"Shape :\\n\" + str(dt.shape))\n",
    "#List all columns after data is laoded \n",
    "#temp.columns.values # so we have 8,225,871 rows × 10 columns present in the data\n",
    "#see names and data types \n",
    "print(\"Data type Information :\\n\" +  str(dt.dtypes))\n",
    "#sort the data by year to tidy things before moving on \n",
    "dt = dt.sort_values(\"year\")\n",
    "#delete temp dataset \n",
    "#del(temp)"
   ]
  },
  {
   "cell_type": "code",
   "execution_count": null,
   "metadata": {
    "_cell_guid": "79c7e3d0-c299-4dcb-8224-4455121ee9b0",
    "_uuid": "d629ff2d2480ee46fbb7e2d37f6b5fab8052498a",
    "trusted": true,
    "collapsed": true
   },
   "outputs": [],
   "source": [
    "# Preview the data \n",
    "dt.head(10)\n",
    "# Preview data tail \n",
    "dt.tail(10)"
   ]
  },
  {
   "cell_type": "code",
   "execution_count": null,
   "metadata": {
    "trusted": true,
    "_uuid": "e39a0d9fe2df821498463ddc9b665546e34ad90a",
    "scrolled": false,
    "collapsed": true
   },
   "outputs": [],
   "source": [
    "# see missing values \n",
    "dt.count()\n",
    "#Preview preliminary statistics as is from the dat awithout cleanup \n",
    "dt.describe(include=\"all\")"
   ]
  },
  {
   "cell_type": "code",
   "execution_count": null,
   "metadata": {
    "trusted": true,
    "_uuid": "a4c30dfcd02750ba90c77440186ba17a0a9b10f7",
    "collapsed": true
   },
   "outputs": [],
   "source": [
    "dt = dt.dropna(how='any').reset_index(drop=True)  \n",
    "dt.describe(include=\"all\")"
   ]
  },
  {
   "cell_type": "code",
   "execution_count": null,
   "metadata": {
    "trusted": true,
    "_uuid": "27320ceacbc9f60cb28b7dcb0be7ae716b37102f",
    "collapsed": true
   },
   "outputs": [],
   "source": [
    "#all missing values 'NaN' are messing up with prelim statisitics, lets treat missing cases by each variable \n",
    "#dt.describe(include=\"all\")\n",
    "#First lets filter the data where there is no missing values \n",
    "#pick first variable \n",
    "#find unique values present other than nan\n",
    "print('Country or Area')\n",
    "dt['country_or_area'].nunique()\n",
    "dt['country_or_area'].unique()\n",
    "#there are 209 overall country or areas present in the data, Now lets se frequencies of each of these catergories \n",
    "dt['country_or_area'].value_counts()"
   ]
  },
  {
   "cell_type": "code",
   "execution_count": null,
   "metadata": {
    "trusted": true,
    "_uuid": "ace7ba2e394619be041de297d6cc76083bee754f",
    "scrolled": true,
    "collapsed": true
   },
   "outputs": [],
   "source": [
    "print('Commodity')\n",
    "dt['commodity'].nunique()\n",
    "dt['commodity'].unique()\n",
    "dt['commodity'].value_counts()\n",
    "dt.commodity.unique()"
   ]
  },
  {
   "cell_type": "code",
   "execution_count": null,
   "metadata": {
    "trusted": true,
    "_uuid": "19983e4bbebc9a4d552c7ab9c8694e23f9a3713f",
    "collapsed": true
   },
   "outputs": [],
   "source": [
    "print('flow variable')\n",
    "dt['flow'].nunique()\n",
    "dt['flow'].unique()"
   ]
  },
  {
   "cell_type": "code",
   "execution_count": null,
   "metadata": {
    "trusted": true,
    "scrolled": false,
    "_uuid": "eb760a1ebf98d10541962c315652bb39841052a4",
    "collapsed": true
   },
   "outputs": [],
   "source": [
    "print('category')\n",
    "dt['category'].nunique()\n",
    "dt['category'].unique()\n",
    "#there are 209 overall country or areas present in the data, Now lets se frequencies of each of these catergories \n",
    "#dt['category'].value_counts()"
   ]
  },
  {
   "cell_type": "code",
   "execution_count": null,
   "metadata": {
    "trusted": true,
    "_uuid": "5676187955f6058ff90f66210261bb6492231595",
    "collapsed": true
   },
   "outputs": [],
   "source": [
    "dfSheeps = dt[dt['commodity']=='Sheep, live'].reset_index(drop=True)  \n",
    "dfGoats = dt[dt['commodity']=='Goats, live'].reset_index(drop=True)  \n",
    "dfSheeps.head()\n",
    "dfSheepsGrouped = pd.DataFrame({'weight_kg' : dfSheeps.groupby( [\"year\",\"flow\",\"commodity\"] )[\"weight_kg\"].sum()}).reset_index()\n",
    "dfGoatsGrouped = pd.DataFrame({'weight_kg' : dfGoats.groupby( [\"year\",\"flow\",\"commodity\"] )[\"weight_kg\"].sum()}).reset_index()\n",
    "dfSheepsGrouped.head()"
   ]
  },
  {
   "cell_type": "code",
   "execution_count": null,
   "metadata": {
    "trusted": true,
    "_uuid": "91ed4ea18026cefdd0606373949cee25c678004c",
    "collapsed": true
   },
   "outputs": [],
   "source": [
    "f, ax = plt.subplots(1, 1)\n",
    "dfgr = pd.concat([dfSheepsGrouped,dfGoatsGrouped])\n",
    "ax = sns.pointplot(ax=ax,x=\"year\",y=\"weight_kg\",data=dfgr[dfgr['flow']=='Import'],hue='commodity')\n",
    "_ = ax.set_title('Global imports of kgs by animal')"
   ]
  },
  {
   "cell_type": "code",
   "execution_count": null,
   "metadata": {
    "trusted": true,
    "_uuid": "e40d501d064385d4b246b1cbc47b82003b5ea34d",
    "collapsed": true
   },
   "outputs": [],
   "source": [
    "dfSheepsGrouped = pd.DataFrame({'weight_kg' : dfSheeps.groupby( [\"country_or_area\",\"flow\",\"commodity\"] )[\"weight_kg\"].sum()}).reset_index()\n",
    "dfSheepsGrouped.head()\n",
    "\n",
    "sheepsImportsCountry = dfSheepsGrouped[dfSheepsGrouped['flow']=='Import']\n",
    "sheepsExportsCountry = dfSheepsGrouped[dfSheepsGrouped['flow']=='Export']\n",
    "sheepsImportsCountry.head()\n"
   ]
  },
  {
   "cell_type": "code",
   "execution_count": null,
   "metadata": {
    "trusted": true,
    "_uuid": "56124dc7c6f5813efe47edee664795cd310be8e4",
    "scrolled": true,
    "collapsed": true
   },
   "outputs": [],
   "source": [
    "ax = sns.barplot(x=\"weight_kg\", y=\"country_or_area\", data=sheepsImportsCountry.sort_values('weight_kg',ascending=False)[:15])\n",
    "_ = ax.set(xlabel='Kgs', ylabel='Country or area',title = \"Countries or areas that imported more kgs of Sheeps\")\n",
    "\n",
    "ax = sns.barplot(x=\"weight_kg\", y=\"country_or_area\", data=sheepsExportsCountry.sort_values('weight_kg',ascending=False)[:15])\n",
    "_ = ax.set(xlabel='Kgs', ylabel='Country or area',title = \"Countries or areas that exported more kgs of Sheeps\")"
   ]
  },
  {
   "cell_type": "code",
   "execution_count": null,
   "metadata": {
    "trusted": true,
    "scrolled": true,
    "_uuid": "8bbe596af10e36bcabb19e447213572dc7d54e8f",
    "collapsed": true
   },
   "outputs": [],
   "source": [
    "#List of top 10 countries having highest trade in terms of dollars \n",
    "dt.groupby(['country_or_area'])['trade_usd'].aggregate(np.sum).nlargest(10)"
   ]
  },
  {
   "cell_type": "code",
   "execution_count": null,
   "metadata": {
    "trusted": true,
    "_uuid": "cdc53c2a5f5f44af668fa93334f49c65c72a9fe8",
    "collapsed": true
   },
   "outputs": [],
   "source": [
    "#List of top 10 countries having smallest trade in terms of dollars \n",
    "dt.groupby(['country_or_area'])['trade_usd'].aggregate(np.sum).nsmallest(10)"
   ]
  },
  {
   "cell_type": "code",
   "execution_count": null,
   "metadata": {
    "trusted": true,
    "_uuid": "307bb0037f2f1d19e06b8342ecbc9b8b8c7516ef",
    "collapsed": true
   },
   "outputs": [],
   "source": [
    "#List of top 10 countries having highest trade in terms of weight\n",
    "dt.groupby(['country_or_area'])['weight_kg'].aggregate(np.sum).nlargest(10)"
   ]
  },
  {
   "cell_type": "code",
   "execution_count": null,
   "metadata": {
    "trusted": true,
    "scrolled": true,
    "_uuid": "e100fce38a5f0f877488f557410a592c0f4a9914",
    "collapsed": true
   },
   "outputs": [],
   "source": [
    "#List of top 10 countries having smallest trade in terms of weight\n",
    "dt.groupby(['country_or_area'])['weight_kg'].aggregate(np.sum).nsmallest(10)"
   ]
  }
 ],
 "metadata": {
  "kernelspec": {
   "display_name": "Python 3",
   "language": "python",
   "name": "python3"
  },
  "language_info": {
   "name": "python",
   "version": "3.6.6",
   "mimetype": "text/x-python",
   "codemirror_mode": {
    "name": "ipython",
    "version": 3
   },
   "pygments_lexer": "ipython3",
   "nbconvert_exporter": "python",
   "file_extension": ".py"
  }
 },
 "nbformat": 4,
 "nbformat_minor": 1
}
